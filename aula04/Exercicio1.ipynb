{
 "cells": [
  {
   "cell_type": "code",
   "execution_count": 6,
   "id": "3abd7dc9",
   "metadata": {},
   "outputs": [],
   "source": [
    "import pandas as pd"
   ]
  },
  {
   "cell_type": "code",
   "execution_count": 54,
   "id": "9f873425",
   "metadata": {},
   "outputs": [],
   "source": [
    "df = pd.DataFrame({\"cliente\": [\"Ana\", \"Bruno\", \"Carlos\", \"Diego\", \"Ester\"],\n",
    "                   \"idade\": [35, 22, 63, 59, 25],\n",
    "                   \"cartoes\": [3, 2, 1, 1, 4],\n",
    "                   \"renda\": [35000, 50000, 200000, 170000, 40000],\n",
    "                   \"calote\": [0, 1, 0, 0, 1]\n",
    "                   })"
   ]
  },
  {
   "cell_type": "code",
   "execution_count": 46,
   "id": "706caf39",
   "metadata": {},
   "outputs": [
    {
     "data": {
      "text/html": [
       "<div>\n",
       "<style scoped>\n",
       "    .dataframe tbody tr th:only-of-type {\n",
       "        vertical-align: middle;\n",
       "    }\n",
       "\n",
       "    .dataframe tbody tr th {\n",
       "        vertical-align: top;\n",
       "    }\n",
       "\n",
       "    .dataframe thead th {\n",
       "        text-align: right;\n",
       "    }\n",
       "</style>\n",
       "<table border=\"1\" class=\"dataframe\">\n",
       "  <thead>\n",
       "    <tr style=\"text-align: right;\">\n",
       "      <th></th>\n",
       "      <th>cliente</th>\n",
       "      <th>idade</th>\n",
       "      <th>cartoes</th>\n",
       "      <th>renda</th>\n",
       "      <th>calote</th>\n",
       "    </tr>\n",
       "  </thead>\n",
       "  <tbody>\n",
       "    <tr>\n",
       "      <th>0</th>\n",
       "      <td>Ana</td>\n",
       "      <td>35</td>\n",
       "      <td>3</td>\n",
       "      <td>35000</td>\n",
       "      <td>0</td>\n",
       "    </tr>\n",
       "    <tr>\n",
       "      <th>1</th>\n",
       "      <td>Bruno</td>\n",
       "      <td>22</td>\n",
       "      <td>2</td>\n",
       "      <td>50000</td>\n",
       "      <td>1</td>\n",
       "    </tr>\n",
       "    <tr>\n",
       "      <th>2</th>\n",
       "      <td>Carlos</td>\n",
       "      <td>63</td>\n",
       "      <td>1</td>\n",
       "      <td>200000</td>\n",
       "      <td>0</td>\n",
       "    </tr>\n",
       "    <tr>\n",
       "      <th>3</th>\n",
       "      <td>Diego</td>\n",
       "      <td>59</td>\n",
       "      <td>1</td>\n",
       "      <td>170000</td>\n",
       "      <td>0</td>\n",
       "    </tr>\n",
       "    <tr>\n",
       "      <th>4</th>\n",
       "      <td>Ester</td>\n",
       "      <td>25</td>\n",
       "      <td>4</td>\n",
       "      <td>40000</td>\n",
       "      <td>1</td>\n",
       "    </tr>\n",
       "  </tbody>\n",
       "</table>\n",
       "</div>"
      ],
      "text/plain": [
       "  cliente  idade  cartoes   renda  calote\n",
       "0     Ana     35        3   35000       0\n",
       "1   Bruno     22        2   50000       1\n",
       "2  Carlos     63        1  200000       0\n",
       "3   Diego     59        1  170000       0\n",
       "4   Ester     25        4   40000       1"
      ]
     },
     "execution_count": 46,
     "metadata": {},
     "output_type": "execute_result"
    }
   ],
   "source": [
    "df"
   ]
  },
  {
   "cell_type": "code",
   "execution_count": 56,
   "id": "df91ec54",
   "metadata": {},
   "outputs": [],
   "source": [
    "import numpy as np\n",
    "\n",
    "x_alvo = np.array([37.0, 2.0, 50000.0])"
   ]
  },
  {
   "cell_type": "code",
   "execution_count": 57,
   "id": "5ff04348",
   "metadata": {},
   "outputs": [
    {
     "data": {
      "text/plain": [
       "array([3.7e+01, 2.0e+00, 5.0e+04])"
      ]
     },
     "execution_count": 57,
     "metadata": {},
     "output_type": "execute_result"
    }
   ],
   "source": [
    "x_alvo"
   ]
  },
  {
   "cell_type": "code",
   "execution_count": 11,
   "id": "5d5296b0",
   "metadata": {},
   "outputs": [],
   "source": [
    "import math\n",
    "\n",
    "\n",
    "def euclidiana(x1, x2):\n",
    "\n",
    "    dist = 0\n",
    "\n",
    "    for i in range(0, len(x1)):\n",
    "\n",
    "        dist += (x1[i] - x2[i])**2\n",
    "\n",
    "    return math.sqrt(dist)"
   ]
  },
  {
   "cell_type": "code",
   "execution_count": 58,
   "id": "6cdd8afd",
   "metadata": {},
   "outputs": [],
   "source": [
    "x1 = df.drop(columns=[\"cliente\", \"calote\"]).iloc[0].values"
   ]
  },
  {
   "cell_type": "code",
   "execution_count": 59,
   "id": "05f01ab1",
   "metadata": {},
   "outputs": [
    {
     "data": {
      "text/plain": [
       "array([   35,     3, 35000])"
      ]
     },
     "execution_count": 59,
     "metadata": {},
     "output_type": "execute_result"
    }
   ],
   "source": [
    "x1"
   ]
  },
  {
   "attachments": {},
   "cell_type": "markdown",
   "id": "6804fd3f",
   "metadata": {},
   "source": [
    "# Normalização dos atributos\n"
   ]
  },
  {
   "cell_type": "code",
   "execution_count": 67,
   "id": "e6a49858",
   "metadata": {},
   "outputs": [],
   "source": [
    "for i in df.drop(columns=[\"cliente\", \"calote\"]).columns:\n",
    "\n",
    "    df[i] = (df[i].max() - df[i]) / df[i].min()"
   ]
  },
  {
   "cell_type": "code",
   "execution_count": 64,
   "id": "e26d2d9b",
   "metadata": {},
   "outputs": [
    {
     "data": {
      "text/plain": [
       "array([3.7e+01, 2.0e+00, 5.0e+04])"
      ]
     },
     "execution_count": 64,
     "metadata": {},
     "output_type": "execute_result"
    }
   ],
   "source": [
    "x_alvo"
   ]
  },
  {
   "cell_type": "code",
   "execution_count": 65,
   "id": "2e342004",
   "metadata": {},
   "outputs": [],
   "source": [
    "x_alvo[0] = (df.idade.max() - x_alvo[0]) / df.idade.min()\n",
    "x_alvo[1] = (df.cartoes.max() - x_alvo[1]) / df.cartoes.min()\n",
    "x_alvo[2] = (df.renda.max() - x_alvo[2]) / df.renda.min()"
   ]
  },
  {
   "cell_type": "code",
   "execution_count": 66,
   "id": "cf079060",
   "metadata": {},
   "outputs": [
    {
     "data": {
      "text/plain": [
       "array([1.18181818, 2.        , 4.28571429])"
      ]
     },
     "execution_count": 66,
     "metadata": {},
     "output_type": "execute_result"
    }
   ],
   "source": [
    "x_alvo"
   ]
  },
  {
   "cell_type": "code",
   "execution_count": 31,
   "id": "740dbb9d",
   "metadata": {},
   "outputs": [
    {
     "data": {
      "text/html": [
       "<div>\n",
       "<style scoped>\n",
       "    .dataframe tbody tr th:only-of-type {\n",
       "        vertical-align: middle;\n",
       "    }\n",
       "\n",
       "    .dataframe tbody tr th {\n",
       "        vertical-align: top;\n",
       "    }\n",
       "\n",
       "    .dataframe thead th {\n",
       "        text-align: right;\n",
       "    }\n",
       "</style>\n",
       "<table border=\"1\" class=\"dataframe\">\n",
       "  <thead>\n",
       "    <tr style=\"text-align: right;\">\n",
       "      <th></th>\n",
       "      <th>cliente</th>\n",
       "      <th>idade</th>\n",
       "      <th>cartoes</th>\n",
       "      <th>renda</th>\n",
       "      <th>calote</th>\n",
       "    </tr>\n",
       "  </thead>\n",
       "  <tbody>\n",
       "    <tr>\n",
       "      <th>0</th>\n",
       "      <td>Ana</td>\n",
       "      <td>1.272727</td>\n",
       "      <td>1.0</td>\n",
       "      <td>4.714286</td>\n",
       "      <td>0</td>\n",
       "    </tr>\n",
       "    <tr>\n",
       "      <th>1</th>\n",
       "      <td>Bruno</td>\n",
       "      <td>1.863636</td>\n",
       "      <td>2.0</td>\n",
       "      <td>4.285714</td>\n",
       "      <td>1</td>\n",
       "    </tr>\n",
       "    <tr>\n",
       "      <th>2</th>\n",
       "      <td>Carlos</td>\n",
       "      <td>0.000000</td>\n",
       "      <td>3.0</td>\n",
       "      <td>0.000000</td>\n",
       "      <td>0</td>\n",
       "    </tr>\n",
       "    <tr>\n",
       "      <th>3</th>\n",
       "      <td>Diego</td>\n",
       "      <td>0.181818</td>\n",
       "      <td>3.0</td>\n",
       "      <td>0.857143</td>\n",
       "      <td>0</td>\n",
       "    </tr>\n",
       "    <tr>\n",
       "      <th>4</th>\n",
       "      <td>Ester</td>\n",
       "      <td>1.727273</td>\n",
       "      <td>0.0</td>\n",
       "      <td>4.571429</td>\n",
       "      <td>1</td>\n",
       "    </tr>\n",
       "  </tbody>\n",
       "</table>\n",
       "</div>"
      ],
      "text/plain": [
       "  cliente     idade  cartoes     renda  calote\n",
       "0     Ana  1.272727      1.0  4.714286       0\n",
       "1   Bruno  1.863636      2.0  4.285714       1\n",
       "2  Carlos  0.000000      3.0  0.000000       0\n",
       "3   Diego  0.181818      3.0  0.857143       0\n",
       "4   Ester  1.727273      0.0  4.571429       1"
      ]
     },
     "execution_count": 31,
     "metadata": {},
     "output_type": "execute_result"
    }
   ],
   "source": [
    "df"
   ]
  },
  {
   "cell_type": "code",
   "execution_count": null,
   "id": "527ae487",
   "metadata": {},
   "outputs": [],
   "source": []
  },
  {
   "cell_type": "code",
   "execution_count": 68,
   "id": "ac79da19",
   "metadata": {},
   "outputs": [
    {
     "name": "stdout",
     "output_type": "stream",
     "text": [
      "idade      1.272727\n",
      "cartoes    1.000000\n",
      "renda      4.714286\n",
      "Name: 0, dtype: float64 \n",
      "\n",
      "1.0917590998923126 \n",
      "\n",
      "idade      1.863636\n",
      "cartoes    2.000000\n",
      "renda      4.285714\n",
      "Name: 1, dtype: float64 \n",
      "\n",
      "0.6818181818181817 \n",
      "\n",
      "idade      0.0\n",
      "cartoes    3.0\n",
      "renda      0.0\n",
      "Name: 2, dtype: float64 \n",
      "\n",
      "4.556757745771827 \n",
      "\n",
      "idade      0.181818\n",
      "cartoes    3.000000\n",
      "renda      0.857143\n",
      "Name: 3, dtype: float64 \n",
      "\n",
      "3.7087871387849054 \n",
      "\n",
      "idade      1.727273\n",
      "cartoes    0.000000\n",
      "renda      4.571429\n",
      "Name: 4, dtype: float64 \n",
      "\n",
      "2.0926426628113672 \n",
      "\n"
     ]
    }
   ],
   "source": [
    "\n",
    "for i in range(0, len(df)):\n",
    "\n",
    "    x = df.drop(columns=[\"cliente\", \"calote\"]).iloc[i]\n",
    "\n",
    "    print(x, '\\n')\n",
    "\n",
    "    print(euclidiana(x, x_alvo), '\\n')"
   ]
  }
 ],
 "metadata": {
  "kernelspec": {
   "display_name": "Python 3 (ipykernel)",
   "language": "python",
   "name": "python3"
  },
  "language_info": {
   "codemirror_mode": {
    "name": "ipython",
    "version": 3
   },
   "file_extension": ".py",
   "mimetype": "text/x-python",
   "name": "python",
   "nbconvert_exporter": "python",
   "pygments_lexer": "ipython3",
   "version": "3.9.13"
  }
 },
 "nbformat": 4,
 "nbformat_minor": 5
}
