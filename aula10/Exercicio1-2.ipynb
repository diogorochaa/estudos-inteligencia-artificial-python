{
 "cells": [
  {
   "cell_type": "code",
   "execution_count": null,
   "id": "245d0563",
   "metadata": {},
   "outputs": [],
   "source": [
    "import pandas as pd"
   ]
  },
  {
   "cell_type": "code",
   "execution_count": null,
   "id": "14d0c5a5",
   "metadata": {},
   "outputs": [],
   "source": [
    "df = pd.read_csv('../../mammographic_masses.csv', na_values= '?', names=['BI_RADS', 'Age', 'Shape', 'Margin', 'Density', 'Classe'])"
   ]
  },
  {
   "cell_type": "code",
   "execution_count": null,
   "id": "df9e3b9e",
   "metadata": {},
   "outputs": [],
   "source": [
    "df = df.fillna(0)"
   ]
  },
  {
   "cell_type": "code",
   "execution_count": null,
   "id": "3c4767db",
   "metadata": {},
   "outputs": [],
   "source": [
    "from sklearn.model_selection import train_test_split\n",
    "\n",
    "X = df.drop(columns=['Classe'])\n",
    "y = df.Classe\n",
    "\n",
    "X_treino, X_teste, y_treino, y_teste = train_test_split(X, y, test_size=0.5, random_state=12)"
   ]
  },
  {
   "cell_type": "code",
   "execution_count": null,
   "id": "7920b644",
   "metadata": {},
   "outputs": [],
   "source": [
    "from sklearn.naive_bayes import GaussianNB\n",
    "clf = GaussianNB()\n",
    "clf.fit(X_treino, y_treino)"
   ]
  },
  {
   "cell_type": "code",
   "execution_count": null,
   "id": "45ec2d0a",
   "metadata": {},
   "outputs": [],
   "source": [
    "from sklearn.tree import DecisionTreeClassifier\n",
    "clf2 = DecisionTreeClassifier(random_state=0)\n",
    "clf2.fit(X_treino, y_treino)"
   ]
  },
  {
   "cell_type": "code",
   "execution_count": null,
   "id": "efad1e2c",
   "metadata": {},
   "outputs": [],
   "source": [
    "from sklearn.metrics import accuracy_score"
   ]
  },
  {
   "cell_type": "markdown",
   "id": "f1b037fb",
   "metadata": {},
   "source": [
    "# Bootstrap"
   ]
  },
  {
   "cell_type": "code",
   "execution_count": null,
   "id": "c540a492",
   "metadata": {},
   "outputs": [],
   "source": [
    "from sklearn.model_selection import ShuffleSplit"
   ]
  },
  {
   "cell_type": "code",
   "execution_count": null,
   "id": "ad90639a",
   "metadata": {},
   "outputs": [],
   "source": [
    "ss = ShuffleSplit(n_splits=5, test_size=0.25, random_state=0)"
   ]
  },
  {
   "cell_type": "code",
   "execution_count": null,
   "id": "1fc8ac54",
   "metadata": {},
   "outputs": [],
   "source": [
    "df.iloc[train_index[:10]]"
   ]
  },
  {
   "cell_type": "code",
   "execution_count": null,
   "id": "d1bc8d1d",
   "metadata": {},
   "outputs": [],
   "source": [
    "for train_index, test_index in ss.split(df):\n",
    "    \n",
    "    df_treino = df.iloc[train_index]\n",
    "    df_teste = df.iloc[test_index]\n",
    "    \n",
    "    X_treino = df_treino.drop(columns=['Classe'])\n",
    "    y_treino = df_treino.Classe\n",
    "    X_teste = df_teste.drop(columns=['Classe'])\n",
    "    y_teste = df_teste.Classe\n",
    "    \n",
    "    clf = GaussianNB()\n",
    "    clf.fit(X_treino, y_treino)\n",
    "    \n",
    "    clf2 = DecisionTreeClassifier(random_state=0)\n",
    "    clf2.fit(X_treino, y_treino)\n",
    "    \n",
    "    print(clf.score(X_teste, y_teste), clf2.score(X_teste, y_teste))"
   ]
  },
  {
   "cell_type": "markdown",
   "id": "3f14d3c9",
   "metadata": {},
   "source": [
    "# Leave one out"
   ]
  },
  {
   "cell_type": "code",
   "execution_count": null,
   "id": "b77977b6",
   "metadata": {},
   "outputs": [],
   "source": [
    "from sklearn.model_selection import LeaveOneOut"
   ]
  },
  {
   "cell_type": "code",
   "execution_count": null,
   "id": "3c029e17",
   "metadata": {},
   "outputs": [],
   "source": [
    "sum_acc_clf = 0\n",
    "sum_acc_clf2 = 0\n",
    "\n",
    "loo = LeaveOneOut()\n",
    "for train, test in loo.split(X):\n",
    "    \n",
    "    df_treino = df.iloc[train]\n",
    "    df_teste = df.iloc[test]\n",
    "        \n",
    "    X_treino = df_treino.drop(columns=['Classe'])\n",
    "    y_treino = df_treino.Classe\n",
    "    X_teste = df_teste.drop(columns=['Classe'])\n",
    "    y_teste = df_teste.Classe\n",
    "    \n",
    "    clf = GaussianNB()\n",
    "    clf.fit(X_treino, y_treino)\n",
    "    \n",
    "    clf2 = DecisionTreeClassifier(random_state=0)\n",
    "    clf2.fit(X_treino, y_treino)\n",
    "    \n",
    "    # print(clf.score(X_teste, y_teste), clf2.score(X_teste, y_teste))\n",
    "    \n",
    "    sum_acc_clf += clf.score(X_teste, y_teste)\n",
    "    sum_acc_clf2 += clf2.score(X_teste, y_teste)"
   ]
  },
  {
   "cell_type": "code",
   "execution_count": null,
   "id": "a57bef42",
   "metadata": {},
   "outputs": [],
   "source": [
    "import numpy as np\n",
    "\n",
    "print(sum_acc_clf / len(X_treino) * 100)\n",
    "print(sum_acc_clf2 / len(X_treino) * 100)"
   ]
  },
  {
   "cell_type": "markdown",
   "id": "bb80691f",
   "metadata": {},
   "source": [
    "# Stratified k-fold"
   ]
  },
  {
   "cell_type": "code",
   "execution_count": null,
   "id": "f12275d6",
   "metadata": {},
   "outputs": [],
   "source": [
    "from sklearn.model_selection import StratifiedKFold"
   ]
  },
  {
   "cell_type": "code",
   "execution_count": null,
   "id": "ecb6b9ed",
   "metadata": {},
   "outputs": [],
   "source": [
    "skf = StratifiedKFold(n_splits=10)"
   ]
  },
  {
   "cell_type": "code",
   "execution_count": null,
   "id": "eb28baed",
   "metadata": {},
   "outputs": [],
   "source": [
    "sum_acc_clf = 0\n",
    "sum_acc_clf2 = 0\n",
    "\n",
    "for train, test in skf.split(X, y):\n",
    "    \n",
    "    X_treino = X.iloc[train]\n",
    "    y_treino = y.iloc[train]\n",
    "    X_teste = X.iloc[test]\n",
    "    y_teste = y.iloc[test]\n",
    "    \n",
    "    clf = GaussianNB()\n",
    "    clf.fit(X_treino, y_treino)\n",
    "    \n",
    "    clf2 = DecisionTreeClassifier(random_state=0)\n",
    "    clf2.fit(X_treino, y_treino)\n",
    "    \n",
    "    # print(clf.score(X_teste, y_teste), clf2.score(X_teste, y_teste))\n",
    "    \n",
    "    sum_acc_clf += clf.score(X_teste, y_teste)\n",
    "    sum_acc_clf2 += clf2.score(X_teste, y_teste)"
   ]
  },
  {
   "cell_type": "code",
   "execution_count": null,
   "id": "b50a30c0",
   "metadata": {},
   "outputs": [],
   "source": [
    "import numpy as np\n",
    "\n",
    "print(sum_acc_clf / len(X_treino) * 100)\n",
    "print(sum_acc_clf2 / len(X_treino) * 100)"
   ]
  },
  {
   "cell_type": "code",
   "execution_count": null,
   "id": "2c35376c",
   "metadata": {},
   "outputs": [],
   "source": []
  }
 ],
 "metadata": {
  "kernelspec": {
   "display_name": "Python 3 (ipykernel)",
   "language": "python",
   "name": "python3"
  },
  "language_info": {
   "codemirror_mode": {
    "name": "ipython",
    "version": 3
   },
   "file_extension": ".py",
   "mimetype": "text/x-python",
   "name": "python",
   "nbconvert_exporter": "python",
   "pygments_lexer": "ipython3",
   "version": "3.9.13"
  }
 },
 "nbformat": 4,
 "nbformat_minor": 5
}
