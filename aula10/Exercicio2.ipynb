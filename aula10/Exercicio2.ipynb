{
 "cells": [
  {
   "cell_type": "code",
   "execution_count": 1,
   "id": "803392ed",
   "metadata": {},
   "outputs": [],
   "source": [
    "import pandas as pd"
   ]
  },
  {
   "cell_type": "code",
   "execution_count": 2,
   "id": "c7c28bad",
   "metadata": {},
   "outputs": [],
   "source": [
    "df = pd.read_csv('../../mammographic_masses.csv', na_values= '?', names=['BI_RADS', 'Age', 'Shape', 'Margin', 'Density', 'Classe'])"
   ]
  },
  {
   "cell_type": "code",
   "execution_count": 3,
   "id": "0b992455",
   "metadata": {},
   "outputs": [],
   "source": [
    "df = df.fillna(0)"
   ]
  },
  {
   "cell_type": "code",
   "execution_count": 4,
   "id": "dd382728",
   "metadata": {},
   "outputs": [],
   "source": [
    "from sklearn.model_selection import train_test_split\n",
    "\n",
    "X = df.drop(columns=['Classe'])\n",
    "y = df.Classe\n",
    "\n",
    "X_treino, X_teste, y_treino, y_teste = train_test_split(X, y, test_size=0.5, random_state=12)"
   ]
  },
  {
   "cell_type": "code",
   "execution_count": 5,
   "id": "eb11bc1a",
   "metadata": {},
   "outputs": [
    {
     "data": {
      "text/html": [
       "<div>\n",
       "<style scoped>\n",
       "    .dataframe tbody tr th:only-of-type {\n",
       "        vertical-align: middle;\n",
       "    }\n",
       "\n",
       "    .dataframe tbody tr th {\n",
       "        vertical-align: top;\n",
       "    }\n",
       "\n",
       "    .dataframe thead th {\n",
       "        text-align: right;\n",
       "    }\n",
       "</style>\n",
       "<table border=\"1\" class=\"dataframe\">\n",
       "  <thead>\n",
       "    <tr style=\"text-align: right;\">\n",
       "      <th></th>\n",
       "      <th>BI_RADS</th>\n",
       "      <th>Age</th>\n",
       "      <th>Shape</th>\n",
       "      <th>Margin</th>\n",
       "      <th>Density</th>\n",
       "    </tr>\n",
       "  </thead>\n",
       "  <tbody>\n",
       "    <tr>\n",
       "      <th>746</th>\n",
       "      <td>5.0</td>\n",
       "      <td>69.0</td>\n",
       "      <td>4.0</td>\n",
       "      <td>4.0</td>\n",
       "      <td>3.0</td>\n",
       "    </tr>\n",
       "    <tr>\n",
       "      <th>201</th>\n",
       "      <td>3.0</td>\n",
       "      <td>49.0</td>\n",
       "      <td>4.0</td>\n",
       "      <td>4.0</td>\n",
       "      <td>3.0</td>\n",
       "    </tr>\n",
       "    <tr>\n",
       "      <th>946</th>\n",
       "      <td>4.0</td>\n",
       "      <td>57.0</td>\n",
       "      <td>2.0</td>\n",
       "      <td>4.0</td>\n",
       "      <td>3.0</td>\n",
       "    </tr>\n",
       "    <tr>\n",
       "      <th>495</th>\n",
       "      <td>5.0</td>\n",
       "      <td>63.0</td>\n",
       "      <td>4.0</td>\n",
       "      <td>4.0</td>\n",
       "      <td>3.0</td>\n",
       "    </tr>\n",
       "    <tr>\n",
       "      <th>423</th>\n",
       "      <td>4.0</td>\n",
       "      <td>31.0</td>\n",
       "      <td>1.0</td>\n",
       "      <td>1.0</td>\n",
       "      <td>3.0</td>\n",
       "    </tr>\n",
       "    <tr>\n",
       "      <th>...</th>\n",
       "      <td>...</td>\n",
       "      <td>...</td>\n",
       "      <td>...</td>\n",
       "      <td>...</td>\n",
       "      <td>...</td>\n",
       "    </tr>\n",
       "    <tr>\n",
       "      <th>285</th>\n",
       "      <td>4.0</td>\n",
       "      <td>65.0</td>\n",
       "      <td>4.0</td>\n",
       "      <td>4.0</td>\n",
       "      <td>0.0</td>\n",
       "    </tr>\n",
       "    <tr>\n",
       "      <th>669</th>\n",
       "      <td>4.0</td>\n",
       "      <td>54.0</td>\n",
       "      <td>2.0</td>\n",
       "      <td>4.0</td>\n",
       "      <td>3.0</td>\n",
       "    </tr>\n",
       "    <tr>\n",
       "      <th>230</th>\n",
       "      <td>3.0</td>\n",
       "      <td>72.0</td>\n",
       "      <td>4.0</td>\n",
       "      <td>3.0</td>\n",
       "      <td>3.0</td>\n",
       "    </tr>\n",
       "    <tr>\n",
       "      <th>180</th>\n",
       "      <td>4.0</td>\n",
       "      <td>49.0</td>\n",
       "      <td>4.0</td>\n",
       "      <td>4.0</td>\n",
       "      <td>3.0</td>\n",
       "    </tr>\n",
       "    <tr>\n",
       "      <th>679</th>\n",
       "      <td>4.0</td>\n",
       "      <td>24.0</td>\n",
       "      <td>2.0</td>\n",
       "      <td>1.0</td>\n",
       "      <td>3.0</td>\n",
       "    </tr>\n",
       "  </tbody>\n",
       "</table>\n",
       "<p>481 rows × 5 columns</p>\n",
       "</div>"
      ],
      "text/plain": [
       "     BI_RADS   Age  Shape  Margin  Density\n",
       "746      5.0  69.0    4.0     4.0      3.0\n",
       "201      3.0  49.0    4.0     4.0      3.0\n",
       "946      4.0  57.0    2.0     4.0      3.0\n",
       "495      5.0  63.0    4.0     4.0      3.0\n",
       "423      4.0  31.0    1.0     1.0      3.0\n",
       "..       ...   ...    ...     ...      ...\n",
       "285      4.0  65.0    4.0     4.0      0.0\n",
       "669      4.0  54.0    2.0     4.0      3.0\n",
       "230      3.0  72.0    4.0     3.0      3.0\n",
       "180      4.0  49.0    4.0     4.0      3.0\n",
       "679      4.0  24.0    2.0     1.0      3.0\n",
       "\n",
       "[481 rows x 5 columns]"
      ]
     },
     "execution_count": 5,
     "metadata": {},
     "output_type": "execute_result"
    }
   ],
   "source": [
    "X_teste"
   ]
  },
  {
   "cell_type": "code",
   "execution_count": 6,
   "id": "a7f1f214",
   "metadata": {},
   "outputs": [],
   "source": [
    "from sklearn.model_selection import StratifiedKFold\n",
    "from sklearn.naive_bayes import GaussianNB\n",
    "from sklearn.tree import DecisionTreeClassifier\n",
    "from sklearn.ensemble import AdaBoostClassifier\n",
    "from sklearn.ensemble import RandomForestClassifier"
   ]
  },
  {
   "cell_type": "code",
   "execution_count": 7,
   "id": "126fb53d",
   "metadata": {},
   "outputs": [],
   "source": [
    "skf = StratifiedKFold(n_splits=10)"
   ]
  },
  {
   "cell_type": "code",
   "execution_count": 8,
   "id": "13483655",
   "metadata": {},
   "outputs": [],
   "source": [
    "sum_acc_clf = 0\n",
    "sum_acc_clf2 = 0\n",
    "sum_acc_clf3 = 0\n",
    "sum_acc_clf4 = 0\n",
    "\n",
    "for train, test in skf.split(X, y):\n",
    "    \n",
    "    X_treino = X.iloc[train]\n",
    "    y_treino = y.iloc[train]\n",
    "    X_teste = X.iloc[test]\n",
    "    y_teste = y.iloc[test]\n",
    "    \n",
    "    clf = GaussianNB()\n",
    "    clf.fit(X_treino, y_treino)\n",
    "    \n",
    "    clf2 = DecisionTreeClassifier(random_state=0)\n",
    "    clf2.fit(X_treino, y_treino)\n",
    "    \n",
    "    clf3 = AdaBoostClassifier(n_estimators=100, random_state=0)\n",
    "    clf3.fit(X_treino, y_treino)\n",
    "    \n",
    "    clf4 = RandomForestClassifier(n_estimators=100, max_depth=None, min_samples_split=2, random_state=0)\n",
    "    clf4.fit(X_treino, y_treino)\n",
    "    \n",
    "    # print(clf.score(X_teste, y_teste), clf2.score(X_teste, y_teste))\n",
    "    \n",
    "    sum_acc_clf += clf.score(X_teste, y_teste)\n",
    "    sum_acc_clf2 += clf2.score(X_teste, y_teste)\n",
    "    sum_acc_clf3 += clf3.score(X_teste, y_teste)\n",
    "    sum_acc_clf4 += clf4.score(X_teste, y_teste)"
   ]
  },
  {
   "cell_type": "code",
   "execution_count": 9,
   "id": "5fed6e0a",
   "metadata": {},
   "outputs": [
    {
     "name": "stdout",
     "output_type": "stream",
     "text": [
      "0.9118819895516754\n",
      "0.8757424070873805\n",
      "0.9503803905210257\n",
      "0.9226828953379815\n"
     ]
    }
   ],
   "source": [
    "import numpy as np\n",
    "\n",
    "print(sum_acc_clf / len(X_treino) * 100)\n",
    "print(sum_acc_clf2 / len(X_treino) * 100)\n",
    "print(sum_acc_clf3 / len(X_treino) * 100)\n",
    "print(sum_acc_clf4 / len(X_treino) * 100)"
   ]
  },
  {
   "cell_type": "code",
   "execution_count": null,
   "id": "0ce26ec0",
   "metadata": {},
   "outputs": [],
   "source": []
  }
 ],
 "metadata": {
  "kernelspec": {
   "display_name": "Python 3 (ipykernel)",
   "language": "python",
   "name": "python3"
  },
  "language_info": {
   "codemirror_mode": {
    "name": "ipython",
    "version": 3
   },
   "file_extension": ".py",
   "mimetype": "text/x-python",
   "name": "python",
   "nbconvert_exporter": "python",
   "pygments_lexer": "ipython3",
   "version": "3.9.13"
  }
 },
 "nbformat": 4,
 "nbformat_minor": 5
}
